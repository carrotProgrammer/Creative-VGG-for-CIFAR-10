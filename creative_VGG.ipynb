{
  "nbformat": 4,
  "nbformat_minor": 0,
  "metadata": {
    "colab": {
      "provenance": [],
      "gpuType": "V100",
      "machine_shape": "hm"
    },
    "kernelspec": {
      "name": "python3",
      "display_name": "Python 3"
    },
    "language_info": {
      "name": "python"
    },
    "accelerator": "GPU"
  },
  "cells": [
    {
      "cell_type": "markdown",
      "source": [
        "# 1.Dataset"
      ],
      "metadata": {
        "id": "NopwcDPEZ5MS"
      }
    },
    {
      "cell_type": "code",
      "execution_count": 1,
      "metadata": {
        "id": "wgloGSXFBj0r"
      },
      "outputs": [],
      "source": [
        "import torch\n",
        "import torchvision\n",
        "from torchvision import datasets, transforms\n",
        "import matplotlib.pyplot as plt\n",
        "import numpy as np"
      ]
    },
    {
      "cell_type": "code",
      "source": [
        "device = torch.device('cuda:0' if torch.cuda.is_available() else 'cpu')\n",
        "if device.type == 'cuda':\n",
        "    print(torch.cuda.get_device_name(device))\n",
        "else:\n",
        "    print('CPU')"
      ],
      "metadata": {
        "colab": {
          "base_uri": "https://localhost:8080/"
        },
        "id": "3Y1oEYeSRJTo",
        "outputId": "958ddef9-3db9-4b36-daf0-c6eb87a12cb0"
      },
      "execution_count": 2,
      "outputs": [
        {
          "output_type": "stream",
          "name": "stdout",
          "text": [
            "Tesla V100-SXM2-16GB\n"
          ]
        }
      ]
    },
    {
      "cell_type": "code",
      "source": [
        "def load_cifar10(batch_size, resize=None):\n",
        "    \"\"\"Download the CIFAR-10 dataset and then load it into memory.\"\"\"\n",
        "    train_trans = [\n",
        "        transforms.ToTensor(),\n",
        "        transforms.RandomHorizontalFlip(),  # Random horizontal flip\n",
        "        transforms.RandomRotation(15)       # Random rotation, range ±15 degrees\n",
        "    ]\n",
        "    test_trans = transforms.Compose([\n",
        "        transforms.ToTensor()\n",
        "    ])\n",
        "    if resize:\n",
        "        train_trans.insert(0, transforms.Resize(resize))\n",
        "    train_trans = transforms.Compose(train_trans)\n",
        "\n",
        "    cifar10_train = datasets.CIFAR10(root=\"./data\", train=True, transform=train_trans, download=True)\n",
        "    cifar10_test = datasets.CIFAR10(root=\"./data\", train=False, transform=test_trans, download=True)\n",
        "\n",
        "    return (torch.utils.data.DataLoader(cifar10_train, batch_size, shuffle=True, num_workers=2),\n",
        "            torch.utils.data.DataLoader(cifar10_test, batch_size, shuffle=False, num_workers=2))\n"
      ],
      "metadata": {
        "id": "YMn120O0SSJn"
      },
      "execution_count": 3,
      "outputs": []
    },
    {
      "cell_type": "code",
      "source": [
        "batch_size = 128\n",
        "train_iter, test_iter = load_cifar10(batch_size)"
      ],
      "metadata": {
        "colab": {
          "base_uri": "https://localhost:8080/"
        },
        "id": "z4miXYopSOJr",
        "outputId": "62654f6d-a3c4-49b4-b865-32adb858a477"
      },
      "execution_count": 4,
      "outputs": [
        {
          "output_type": "stream",
          "name": "stdout",
          "text": [
            "Downloading https://www.cs.toronto.edu/~kriz/cifar-10-python.tar.gz to ./data/cifar-10-python.tar.gz\n"
          ]
        },
        {
          "output_type": "stream",
          "name": "stderr",
          "text": [
            "100%|██████████| 170498071/170498071 [00:06<00:00, 27226763.36it/s]\n"
          ]
        },
        {
          "output_type": "stream",
          "name": "stdout",
          "text": [
            "Extracting ./data/cifar-10-python.tar.gz to ./data\n",
            "Files already downloaded and verified\n"
          ]
        }
      ]
    },
    {
      "cell_type": "code",
      "source": [
        "# Getting some random training images\n",
        "X, y = next(iter(train_iter))\n",
        "X, y = X.to(device), y.to(device)\n",
        "print(X.size())\n",
        "print(y.size())"
      ],
      "metadata": {
        "colab": {
          "base_uri": "https://localhost:8080/"
        },
        "id": "hdSLL6WrrMEf",
        "outputId": "51afa40b-60a4-4198-8077-5df0e73dff63"
      },
      "execution_count": 5,
      "outputs": [
        {
          "output_type": "stream",
          "name": "stderr",
          "text": [
            "/usr/lib/python3.10/multiprocessing/popen_fork.py:66: RuntimeWarning: os.fork() was called. os.fork() is incompatible with multithreaded code, and JAX is multithreaded, so this will likely lead to a deadlock.\n",
            "  self.pid = os.fork()\n"
          ]
        },
        {
          "output_type": "stream",
          "name": "stdout",
          "text": [
            "torch.Size([128, 3, 32, 32])\n",
            "torch.Size([128])\n"
          ]
        }
      ]
    },
    {
      "cell_type": "code",
      "source": [
        "def imshow(img):\n",
        "    \"\"\"Show an image.\"\"\"\n",
        "    img = img / 2 + 0.5  # unnormalize\n",
        "    if img.is_cuda:\n",
        "        img = img.cpu()\n",
        "    npimg = img.numpy()\n",
        "    plt.imshow(np.transpose(npimg, (1, 2, 0)))\n",
        "    plt.show()\n",
        "\n",
        "# Show images\n",
        "imshow(torchvision.utils.make_grid(X[:4]))\n",
        "# Print labels\n",
        "class_names = ['airplane', 'automobile', 'bird', 'cat', 'deer',\n",
        "               'dog', 'frog', 'horse', 'ship', 'truck']\n",
        "print(' '.join(f'{class_names[y[j]]}' for j in range(4)))"
      ],
      "metadata": {
        "colab": {
          "base_uri": "https://localhost:8080/",
          "height": 210
        },
        "id": "U_CuSJrDSQT7",
        "outputId": "04f293ff-e5ab-4bc0-ee4d-fbc984f5248d"
      },
      "execution_count": 6,
      "outputs": [
        {
          "output_type": "display_data",
          "data": {
            "text/plain": [
              "<Figure size 640x480 with 1 Axes>"
            ],
            "image/png": "[encoded data removed]"
          },
          "metadata": {}
        },
        {
          "output_type": "stream",
          "name": "stdout",
          "text": [
            "cat truck bird frog\n"
          ]
        }
      ]
    },
    {
      "cell_type": "markdown",
      "source": [
        "# 2. Basic architecture\n"
      ],
      "metadata": {
        "id": "rGFJSGd8imkE"
      }
    },
    {
      "cell_type": "code",
      "source": [
        "import torch.nn as nn\n",
        "import torch.nn.functional as F"
      ],
      "metadata": {
        "id": "q8-TutvMimCL"
      },
      "execution_count": 7,
      "outputs": []
    },
    {
      "cell_type": "code",
      "source": [
        "class ConvBNRelu(nn.Module):\n",
        "    def __init__(self, in_channels, out_channels, kernel_size=3, strides=1, padding='same', rate=0.4, drop=True):\n",
        "        super(ConvBNRelu, self).__init__()\n",
        "        self.drop = drop\n",
        "\n",
        "        if padding == 'same':\n",
        "            pad = kernel_size // 2\n",
        "        else:\n",
        "            pad = 0\n",
        "\n",
        "        # Convolution layer\n",
        "        self.conv = nn.Conv2d(in_channels=in_channels, out_channels=out_channels, kernel_size=kernel_size,\n",
        "                              stride=strides, padding=pad, bias=False)\n",
        "        # Batch normalization layer\n",
        "        self.batchnorm = nn.BatchNorm2d(num_features=out_channels)\n",
        "        # Dropout layer (optional)\n",
        "        if self.drop:\n",
        "            self.dropout = nn.Dropout(p=rate)\n",
        "\n",
        "    def forward(self, x):\n",
        "        x = self.conv(x)\n",
        "        x = self.batchnorm(x)\n",
        "        x = F.relu(x)\n",
        "        if self.drop:\n",
        "            x = self.dropout(x)\n",
        "        return x"
      ],
      "metadata": {
        "id": "9yk9jNAXTkha"
      },
      "execution_count": 8,
      "outputs": []
    },
    {
      "cell_type": "code",
      "source": [
        "class IntermediateBlock(nn.Module):\n",
        "    def __init__(self, in_channels, out_channels, num_layers, kernel_size, rate=0.3, drop=True):\n",
        "        super(IntermediateBlock, self).__init__()\n",
        "        self.convs = nn.ModuleList([\n",
        "            ConvBNRelu(in_channels=in_channels,out_channels=out_channels, kernel_size=kernel_size, padding='same', rate=rate, drop=drop)\n",
        "            for i in range(num_layers)\n",
        "        ])\n",
        "        self.fc = nn.Linear(in_channels, num_layers)\n",
        "\n",
        "    def forward(self, x):\n",
        "        # Compute the average of each channel\n",
        "        avg_channels = torch.mean(x, dim=[2, 3])\n",
        "        # Compute the coefficients\n",
        "        a = torch.softmax(self.fc(avg_channels), dim=1)\n",
        "\n",
        "        # Apply each convolutional layer to the input and collect the outputs\n",
        "        conv_outputs = torch.stack([(conv(x)) for conv in self.convs], dim=1)\n",
        "\n",
        "        # Combine the outputs\n",
        "        x_prime = torch.einsum('blchw,bl->bchw', conv_outputs, a)\n",
        "        return x_prime\n",
        "\n",
        "class OutputBlock(nn.Module):\n",
        "    def __init__(self, in_channels, num_classes):\n",
        "        super(OutputBlock, self).__init__()\n",
        "        # Define the first fully connected layer\n",
        "        self.fc1 = nn.Linear(in_channels, 512)\n",
        "        self.relu = nn.ReLU()\n",
        "        self.dropout = nn.Dropout(p=0.5)\n",
        "        # Define the second fully connected layer\n",
        "        self.fc2 = nn.Linear(512, num_classes)\n",
        "\n",
        "\n",
        "    def forward(self, x):\n",
        "        # Compute the average of each channel\n",
        "        avg_channels = torch.mean(x, dim=[2, 3])\n",
        "        # Pass through the first fully connected layer and apply ReLU activation\n",
        "        x = self.fc1(avg_channels)\n",
        "        x = self.relu(x)\n",
        "        x = self.dropout(x)\n",
        "        # Compute the logits vector\n",
        "        o = self.fc2(x)\n",
        "        return o"
      ],
      "metadata": {
        "id": "IPaVSzV3Ovfm"
      },
      "execution_count": 9,
      "outputs": []
    },
    {
      "cell_type": "code",
      "source": [
        "class CustomCIFAR10Model(nn.Module):\n",
        "    def __init__(self):\n",
        "        super(CustomCIFAR10Model, self).__init__()\n",
        "        self.block1 = IntermediateBlock(3, 64, 2, 3, drop=True, rate=0.3)\n",
        "        self.block2 = IntermediateBlock(64, 64, 2, 3, drop=False)\n",
        "        self.maxPooling1 = nn.MaxPool2d(kernel_size=2, stride=2)\n",
        "        self.block3 = IntermediateBlock(64, 128, 2, 3, drop=True, rate=0.3)\n",
        "        self.block4 = IntermediateBlock(128, 128, 2, 3, drop=False)\n",
        "        self.maxPooling2 = nn.MaxPool2d(kernel_size=2, stride=2)\n",
        "        self.block5 = IntermediateBlock(128, 256, 3, 3, drop=True, rate=0.4)\n",
        "        self.block6 = IntermediateBlock(256, 256, 3, 3, drop=True, rate=0.4)\n",
        "        self.block7 = IntermediateBlock(256, 256, 3, 3, drop=False)\n",
        "        self.maxPooling3 = nn.MaxPool2d(kernel_size=2, stride=2)\n",
        "        self.block8 = IntermediateBlock(256, 512, 3, 3, drop=True, rate=0.4)\n",
        "        self.block9 = IntermediateBlock(512, 512, 3, 3, drop=True, rate=0.4)\n",
        "        self.block10 = IntermediateBlock(512, 512, 3, 3, drop=False)\n",
        "        self.maxPooling4 = nn.MaxPool2d(kernel_size=2, stride=2)\n",
        "        self.block11 = IntermediateBlock(512, 512, 3, 3,drop=True, rate=0.4)\n",
        "        self.block12 = IntermediateBlock(512, 512, 3, 3, drop=True, rate=0.4)\n",
        "        self.block13 = IntermediateBlock(512, 512, 3, 3, drop=False)\n",
        "        self.maxPooling5 = nn.MaxPool2d(kernel_size=2, stride=2)\n",
        "\n",
        "        self.output_block = OutputBlock(512, 10)\n",
        "\n",
        "\n",
        "    def forward(self, x):\n",
        "        x = self.block1(x)\n",
        "        x = self.block2(x)\n",
        "        x = self.maxPooling1(x)\n",
        "        x = self.block3(x)\n",
        "        x = self.block4(x)\n",
        "        x = self.maxPooling2(x)\n",
        "        x = self.block5(x)\n",
        "        x = self.block6(x)\n",
        "        x = self.block7(x)\n",
        "        x = self.maxPooling3(x)\n",
        "        x = self.block8(x)\n",
        "        x = self.block9(x)\n",
        "        x = self.block10(x)\n",
        "        x = self.maxPooling4(x)\n",
        "        x = self.block11(x)\n",
        "        x = self.block12(x)\n",
        "        x = self.block13(x)\n",
        "        x = self.maxPooling5(x)\n",
        "\n",
        "        x = self.output_block(x)\n",
        "        return x"
      ],
      "metadata": {
        "id": "a7_2iI7uMdks"
      },
      "execution_count": 10,
      "outputs": []
    },
    {
      "cell_type": "markdown",
      "source": [
        "## Test Model"
      ],
      "metadata": {
        "id": "bSJdWnXKC7QB"
      }
    },
    {
      "cell_type": "markdown",
      "source": [
        "## Adust model prameters here"
      ],
      "metadata": {
        "id": "Tsb4hzNfDL3g"
      }
    },
    {
      "cell_type": "code",
      "source": [
        "# def init_weights(m):\n",
        "    # if type(m) == torch.nn.Linear or type(m) == torch.nn.Conv2d:\n",
        "    #   torch.nn.init.xavier_uniform_(m.weight)\n",
        "\n",
        "# Instantiate the model\n",
        "model = CustomCIFAR10Model()\n",
        "\n",
        "model.to(device)\n",
        "# model.apply(init_weights)"
      ],
      "metadata": {
        "colab": {
          "base_uri": "https://localhost:8080/"
        },
        "id": "xNUMgic7C2pp",
        "outputId": "bbb06801-5b3a-4e61-db36-d2abf90013ea"
      },
      "execution_count": 11,
      "outputs": [
        {
          "output_type": "execute_result",
          "data": {
            "text/plain": [
              "CustomCIFAR10Model(\n",
              "  (block1): IntermediateBlock(\n",
              "    (convs): ModuleList(\n",
              "      (0-1): 2 x ConvBNRelu(\n",
              "        (conv): Conv2d(3, 64, kernel_size=(3, 3), stride=(1, 1), padding=(1, 1), bias=False)\n",
              "        (batchnorm): BatchNorm2d(64, eps=1e-05, momentum=0.1, affine=True, track_running_stats=True)\n",
              "        (dropout): Dropout(p=0.3, inplace=False)\n",
              "      )\n",
              "    )\n",
              "    (fc): Linear(in_features=3, out_features=2, bias=True)\n",
              "  )\n",
              "  (block2): IntermediateBlock(\n",
              "    (convs): ModuleList(\n",
              "      (0-1): 2 x ConvBNRelu(\n",
              "        (conv): Conv2d(64, 64, kernel_size=(3, 3), stride=(1, 1), padding=(1, 1), bias=False)\n",
              "        (batchnorm): BatchNorm2d(64, eps=1e-05, momentum=0.1, affine=True, track_running_stats=True)\n",
              "      )\n",
              "    )\n",
              "    (fc): Linear(in_features=64, out_features=2, bias=True)\n",
              "  )\n",
              "  (maxPooling1): MaxPool2d(kernel_size=2, stride=2, padding=0, dilation=1, ceil_mode=False)\n",
              "  (block3): IntermediateBlock(\n",
              "    (convs): ModuleList(\n",
              "      (0-1): 2 x ConvBNRelu(\n",
              "        (conv): Conv2d(64, 128, kernel_size=(3, 3), stride=(1, 1), padding=(1, 1), bias=False)\n",
              "        (batchnorm): BatchNorm2d(128, eps=1e-05, momentum=0.1, affine=True, track_running_stats=True)\n",
              "        (dropout): Dropout(p=0.3, inplace=False)\n",
              "      )\n",
              "    )\n",
              "    (fc): Linear(in_features=64, out_features=2, bias=True)\n",
              "  )\n",
              "  (block4): IntermediateBlock(\n",
              "    (convs): ModuleList(\n",
              "      (0-1): 2 x ConvBNRelu(\n",
              "        (conv): Conv2d(128, 128, kernel_size=(3, 3), stride=(1, 1), padding=(1, 1), bias=False)\n",
              "        (batchnorm): BatchNorm2d(128, eps=1e-05, momentum=0.1, affine=True, track_running_stats=True)\n",
              "      )\n",
              "    )\n",
              "    (fc): Linear(in_features=128, out_features=2, bias=True)\n",
              "  )\n",
              "  (maxPooling2): MaxPool2d(kernel_size=2, stride=2, padding=0, dilation=1, ceil_mode=False)\n",
              "  (block5): IntermediateBlock(\n",
              "    (convs): ModuleList(\n",
              "      (0-2): 3 x ConvBNRelu(\n",
              "        (conv): Conv2d(128, 256, kernel_size=(3, 3), stride=(1, 1), padding=(1, 1), bias=False)\n",
              "        (batchnorm): BatchNorm2d(256, eps=1e-05, momentum=0.1, affine=True, track_running_stats=True)\n",
              "        (dropout): Dropout(p=0.4, inplace=False)\n",
              "      )\n",
              "    )\n",
              "    (fc): Linear(in_features=128, out_features=3, bias=True)\n",
              "  )\n",
              "  (block6): IntermediateBlock(\n",
              "    (convs): ModuleList(\n",
              "      (0-2): 3 x ConvBNRelu(\n",
              "        (conv): Conv2d(256, 256, kernel_size=(3, 3), stride=(1, 1), padding=(1, 1), bias=False)\n",
              "        (batchnorm): BatchNorm2d(256, eps=1e-05, momentum=0.1, affine=True, track_running_stats=True)\n",
              "        (dropout): Dropout(p=0.4, inplace=False)\n",
              "      )\n",
              "    )\n",
              "    (fc): Linear(in_features=256, out_features=3, bias=True)\n",
              "  )\n",
              "  (block7): IntermediateBlock(\n",
              "    (convs): ModuleList(\n",
              "      (0-2): 3 x ConvBNRelu(\n",
              "        (conv): Conv2d(256, 256, kernel_size=(3, 3), stride=(1, 1), padding=(1, 1), bias=False)\n",
              "        (batchnorm): BatchNorm2d(256, eps=1e-05, momentum=0.1, affine=True, track_running_stats=True)\n",
              "      )\n",
              "    )\n",
              "    (fc): Linear(in_features=256, out_features=3, bias=True)\n",
              "  )\n",
              "  (maxPooling3): MaxPool2d(kernel_size=2, stride=2, padding=0, dilation=1, ceil_mode=False)\n",
              "  (block8): IntermediateBlock(\n",
              "    (convs): ModuleList(\n",
              "      (0-2): 3 x ConvBNRelu(\n",
              "        (conv): Conv2d(256, 512, kernel_size=(3, 3), stride=(1, 1), padding=(1, 1), bias=False)\n",
              "        (batchnorm): BatchNorm2d(512, eps=1e-05, momentum=0.1, affine=True, track_running_stats=True)\n",
              "        (dropout): Dropout(p=0.4, inplace=False)\n",
              "      )\n",
              "    )\n",
              "    (fc): Linear(in_features=256, out_features=3, bias=True)\n",
              "  )\n",
              "  (block9): IntermediateBlock(\n",
              "    (convs): ModuleList(\n",
              "      (0-2): 3 x ConvBNRelu(\n",
              "        (conv): Conv2d(512, 512, kernel_size=(3, 3), stride=(1, 1), padding=(1, 1), bias=False)\n",
              "        (batchnorm): BatchNorm2d(512, eps=1e-05, momentum=0.1, affine=True, track_running_stats=True)\n",
              "        (dropout): Dropout(p=0.4, inplace=False)\n",
              "      )\n",
              "    )\n",
              "    (fc): Linear(in_features=512, out_features=3, bias=True)\n",
              "  )\n",
              "  (block10): IntermediateBlock(\n",
              "    (convs): ModuleList(\n",
              "      (0-2): 3 x ConvBNRelu(\n",
              "        (conv): Conv2d(512, 512, kernel_size=(3, 3), stride=(1, 1), padding=(1, 1), bias=False)\n",
              "        (batchnorm): BatchNorm2d(512, eps=1e-05, momentum=0.1, affine=True, track_running_stats=True)\n",
              "      )\n",
              "    )\n",
              "    (fc): Linear(in_features=512, out_features=3, bias=True)\n",
              "  )\n",
              "  (maxPooling4): MaxPool2d(kernel_size=2, stride=2, padding=0, dilation=1, ceil_mode=False)\n",
              "  (block11): IntermediateBlock(\n",
              "    (convs): ModuleList(\n",
              "      (0-2): 3 x ConvBNRelu(\n",
              "        (conv): Conv2d(512, 512, kernel_size=(3, 3), stride=(1, 1), padding=(1, 1), bias=False)\n",
              "        (batchnorm): BatchNorm2d(512, eps=1e-05, momentum=0.1, affine=True, track_running_stats=True)\n",
              "        (dropout): Dropout(p=0.4, inplace=False)\n",
              "      )\n",
              "    )\n",
              "    (fc): Linear(in_features=512, out_features=3, bias=True)\n",
              "  )\n",
              "  (block12): IntermediateBlock(\n",
              "    (convs): ModuleList(\n",
              "      (0-2): 3 x ConvBNRelu(\n",
              "        (conv): Conv2d(512, 512, kernel_size=(3, 3), stride=(1, 1), padding=(1, 1), bias=False)\n",
              "        (batchnorm): BatchNorm2d(512, eps=1e-05, momentum=0.1, affine=True, track_running_stats=True)\n",
              "        (dropout): Dropout(p=0.4, inplace=False)\n",
              "      )\n",
              "    )\n",
              "    (fc): Linear(in_features=512, out_features=3, bias=True)\n",
              "  )\n",
              "  (block13): IntermediateBlock(\n",
              "    (convs): ModuleList(\n",
              "      (0-2): 3 x ConvBNRelu(\n",
              "        (conv): Conv2d(512, 512, kernel_size=(3, 3), stride=(1, 1), padding=(1, 1), bias=False)\n",
              "        (batchnorm): BatchNorm2d(512, eps=1e-05, momentum=0.1, affine=True, track_running_stats=True)\n",
              "      )\n",
              "    )\n",
              "    (fc): Linear(in_features=512, out_features=3, bias=True)\n",
              "  )\n",
              "  (maxPooling5): MaxPool2d(kernel_size=2, stride=2, padding=0, dilation=1, ceil_mode=False)\n",
              "  (output_block): OutputBlock(\n",
              "    (fc1): Linear(in_features=512, out_features=512, bias=True)\n",
              "    (relu): ReLU()\n",
              "    (dropout): Dropout(p=0.5, inplace=False)\n",
              "    (fc2): Linear(in_features=512, out_features=10, bias=True)\n",
              "  )\n",
              ")"
            ]
          },
          "metadata": {},
          "execution_count": 11
        }
      ]
    },
    {
      "cell_type": "markdown",
      "source": [
        "# 3.Loss and Evaluation"
      ],
      "metadata": {
        "id": "ZEAeWZptSNSg"
      }
    },
    {
      "cell_type": "code",
      "source": [
        "loss = torch.nn.CrossEntropyLoss()"
      ],
      "metadata": {
        "id": "hSi2DZp8ExJv"
      },
      "execution_count": 12,
      "outputs": []
    },
    {
      "cell_type": "code",
      "source": [
        "num_epochs = 60\n",
        "lr = 0.1\n",
        "momentum = 0.9 # SGD Momentum\n",
        "weight_decay = 1e-6  # learning rate decay\n",
        "lr_drop = 20 # The learning rate decays to half of its original value every 20 epochs\n",
        "\n",
        "optimizer = torch.optim.SGD(model.parameters(), lr=lr, momentum=momentum, weight_decay=weight_decay, nesterov=True)\n",
        "\n",
        "# Define learning rate scheduler\n",
        "def lr_scheduler(epoch):\n",
        "    return 0.5 ** (epoch // lr_drop)\n",
        "\n",
        "scheduler = torch.optim.lr_scheduler.LambdaLR(optimizer, lr_lambda=lr_scheduler)"
      ],
      "metadata": {
        "id": "xrRYHtBQSOps"
      },
      "execution_count": 13,
      "outputs": []
    },
    {
      "cell_type": "code",
      "source": [
        "def correct(logits, y):\n",
        "    y_hat = logits.argmax(axis=1) # Finds the column with the highest value for each row of `logits`.\n",
        "    return (y_hat == y).float().sum() # Computes the number of times that `y_hat` and `y` match.\n"
      ],
      "metadata": {
        "id": "ZXaEWpKdE94h"
      },
      "execution_count": 14,
      "outputs": []
    },
    {
      "cell_type": "code",
      "source": [
        "def evaluate_metric(model, data_iter, metric):\n",
        "    \"\"\"Compute the average `metric` of the model on a dataset.\"\"\"\n",
        "    c = torch.tensor(0., device=device)\n",
        "    n = torch.tensor(0., device=device)\n",
        "    for X, y in data_iter:\n",
        "        X, y = X.to(device), y.to(device)\n",
        "        logits = model(X)\n",
        "        c += metric(logits, y)\n",
        "        n += len(y)\n",
        "\n",
        "    return c / n"
      ],
      "metadata": {
        "id": "HECzoYR_FFFb"
      },
      "execution_count": 15,
      "outputs": []
    },
    {
      "cell_type": "code",
      "source": [
        "print(f'Training accuracy: {evaluate_metric(model, train_iter, correct)}. Testing accuracy: {evaluate_metric(model, test_iter, correct)}.')"
      ],
      "metadata": {
        "id": "Eon_XBl0FIH7",
        "colab": {
          "base_uri": "https://localhost:8080/"
        },
        "outputId": "3aaf898c-1365-432e-b67b-2bb1a4c4bd55"
      },
      "execution_count": 16,
      "outputs": [
        {
          "output_type": "stream",
          "name": "stdout",
          "text": [
            "Training accuracy: 0.09821999818086624. Testing accuracy: 0.09889999777078629.\n"
          ]
        }
      ]
    },
    {
      "cell_type": "markdown",
      "source": [
        "# 4.Training"
      ],
      "metadata": {
        "id": "5AkA3_I3GRW7"
      }
    },
    {
      "cell_type": "code",
      "source": [
        "losses = [] # Stores the loss for each training batch\n",
        "train_accs = [] # Stores the training accuracy after each epoch\n",
        "test_accs = [] # Stores the testing accuracy after each epoch\n",
        "\n",
        "\n",
        "for epoch in range(num_epochs):\n",
        "    model.train()\n",
        "    print(f'\\nEpoch {epoch + 1}/{num_epochs}.')\n",
        "    for X, y in train_iter:\n",
        "        X, y = X.to(device), y.to(device)\n",
        "        logits = model(X) # Computes the logits for the batch of images `X`\n",
        "\n",
        "        l = loss(logits, y) # Computes the loss given the `logits` and the class vector `y`\n",
        "        optimizer.zero_grad() # Zeroes the gradients stored in the model parameters\n",
        "        l.backward() # Computes the gradient of the loss `l` with respect to the model parameters\n",
        "\n",
        "        optimizer.step() # Updates the model parameters based on the gradients stored inside them\n",
        "\n",
        "        losses.append(float(l)) # Stores the loss for this batch\n",
        "\n",
        "    #Adjust the learning rate after each epoch\n",
        "    scheduler.step()\n",
        "\n",
        "    # Switch to evaluation mode for accuracy calculation\n",
        "    model.eval()\n",
        "    with torch.no_grad(): # Computing performance metrics does not require gradients\n",
        "        train_acc = evaluate_metric(model, train_iter, correct)\n",
        "        test_acc = evaluate_metric(model, test_iter, correct)\n",
        "\n",
        "    train_accs.append(train_acc)\n",
        "    test_accs.append(test_acc)\n",
        "    print(f'Training accuracy: {train_acc}. Testing accuracy: {test_acc}.') # Computes and displays training/testing dataset accuracy.\n"
      ],
      "metadata": {
        "id": "NDqNR39XGTOl",
        "colab": {
          "base_uri": "https://localhost:8080/"
        },
        "outputId": "c3bc44bf-9235-41f9-cac9-9a8497a96078"
      },
      "execution_count": 17,
      "outputs": [
        {
          "output_type": "stream",
          "name": "stdout",
          "text": [
            "\n",
            "Epoch 1/60.\n",
            "Training accuracy: 0.1876000016927719. Testing accuracy: 0.19529999792575836.\n",
            "\n",
            "Epoch 2/60.\n",
            "Training accuracy: 0.2362000048160553. Testing accuracy: 0.23800000548362732.\n",
            "\n",
            "Epoch 3/60.\n",
            "Training accuracy: 0.35288000106811523. Testing accuracy: 0.35120001435279846.\n",
            "\n",
            "Epoch 4/60.\n",
            "Training accuracy: 0.36263999342918396. Testing accuracy: 0.3779999911785126.\n",
            "\n",
            "Epoch 5/60.\n",
            "Training accuracy: 0.5662800073623657. Testing accuracy: 0.573199987411499.\n",
            "\n",
            "Epoch 6/60.\n",
            "Training accuracy: 0.6445599794387817. Testing accuracy: 0.6542999744415283.\n",
            "\n",
            "Epoch 7/60.\n",
            "Training accuracy: 0.664680004119873. Testing accuracy: 0.6815999746322632.\n",
            "\n",
            "Epoch 8/60.\n",
            "Training accuracy: 0.6862199902534485. Testing accuracy: 0.6909999847412109.\n",
            "\n",
            "Epoch 9/60.\n",
            "Training accuracy: 0.71697998046875. Testing accuracy: 0.7257999777793884.\n",
            "\n",
            "Epoch 10/60.\n",
            "Training accuracy: 0.7323399782180786. Testing accuracy: 0.7436000108718872.\n",
            "\n",
            "Epoch 11/60.\n",
            "Training accuracy: 0.7149800062179565. Testing accuracy: 0.7231000065803528.\n",
            "\n",
            "Epoch 12/60.\n",
            "Training accuracy: 0.7839800119400024. Testing accuracy: 0.7788000106811523.\n",
            "\n",
            "Epoch 13/60.\n",
            "Training accuracy: 0.7974799871444702. Testing accuracy: 0.8055999875068665.\n",
            "\n",
            "Epoch 14/60.\n",
            "Training accuracy: 0.815339982509613. Testing accuracy: 0.8133000135421753.\n",
            "\n",
            "Epoch 15/60.\n",
            "Training accuracy: 0.8030999898910522. Testing accuracy: 0.8070999979972839.\n",
            "\n",
            "Epoch 16/60.\n",
            "Training accuracy: 0.8361200094223022. Testing accuracy: 0.829800009727478.\n",
            "\n",
            "Epoch 17/60.\n",
            "Training accuracy: 0.8406999707221985. Testing accuracy: 0.8349999785423279.\n",
            "\n",
            "Epoch 18/60.\n",
            "Training accuracy: 0.8513200283050537. Testing accuracy: 0.8442999720573425.\n",
            "\n",
            "Epoch 19/60.\n",
            "Training accuracy: 0.8544999957084656. Testing accuracy: 0.8490999937057495.\n",
            "\n",
            "Epoch 20/60.\n",
            "Training accuracy: 0.8385599851608276. Testing accuracy: 0.8251000046730042.\n",
            "\n",
            "Epoch 21/60.\n",
            "Training accuracy: 0.895359992980957. Testing accuracy: 0.8687999844551086.\n",
            "\n",
            "Epoch 22/60.\n",
            "Training accuracy: 0.8992199897766113. Testing accuracy: 0.8747000098228455.\n",
            "\n",
            "Epoch 23/60.\n",
            "Training accuracy: 0.9100000262260437. Testing accuracy: 0.8815000057220459.\n",
            "\n",
            "Epoch 24/60.\n",
            "Training accuracy: 0.9048399925231934. Testing accuracy: 0.8762999773025513.\n",
            "\n",
            "Epoch 25/60.\n",
            "Training accuracy: 0.9123799800872803. Testing accuracy: 0.8834999799728394.\n",
            "\n",
            "Epoch 26/60.\n",
            "Training accuracy: 0.9117599725723267. Testing accuracy: 0.8809000253677368.\n",
            "\n",
            "Epoch 27/60.\n",
            "Training accuracy: 0.8968600034713745. Testing accuracy: 0.8639000058174133.\n",
            "\n",
            "Epoch 28/60.\n",
            "Training accuracy: 0.918720006942749. Testing accuracy: 0.8827999830245972.\n",
            "\n",
            "Epoch 29/60.\n",
            "Training accuracy: 0.910040020942688. Testing accuracy: 0.873199999332428.\n",
            "\n",
            "Epoch 30/60.\n",
            "Training accuracy: 0.9057999849319458. Testing accuracy: 0.8766999840736389.\n",
            "\n",
            "Epoch 31/60.\n",
            "Training accuracy: 0.9128599762916565. Testing accuracy: 0.871399998664856.\n",
            "\n",
            "Epoch 32/60.\n",
            "Training accuracy: 0.9289000034332275. Testing accuracy: 0.8833000063896179.\n",
            "\n",
            "Epoch 33/60.\n",
            "Training accuracy: 0.9285200238227844. Testing accuracy: 0.8852999806404114.\n",
            "\n",
            "Epoch 34/60.\n",
            "Training accuracy: 0.9240800142288208. Testing accuracy: 0.8776000142097473.\n",
            "\n",
            "Epoch 35/60.\n",
            "Training accuracy: 0.9335799813270569. Testing accuracy: 0.8896999955177307.\n",
            "\n",
            "Epoch 36/60.\n",
            "Training accuracy: 0.9287800192832947. Testing accuracy: 0.8830999732017517.\n",
            "\n",
            "Epoch 37/60.\n",
            "Training accuracy: 0.9365400075912476. Testing accuracy: 0.8930000066757202.\n",
            "\n",
            "Epoch 38/60.\n",
            "Training accuracy: 0.9358400106430054. Testing accuracy: 0.8860999941825867.\n",
            "\n",
            "Epoch 39/60.\n",
            "Training accuracy: 0.9402199983596802. Testing accuracy: 0.8894000053405762.\n",
            "\n",
            "Epoch 40/60.\n",
            "Training accuracy: 0.9411200284957886. Testing accuracy: 0.8885999917984009.\n",
            "\n",
            "Epoch 41/60.\n",
            "Training accuracy: 0.9567000269889832. Testing accuracy: 0.9009000062942505.\n",
            "\n",
            "Epoch 42/60.\n",
            "Training accuracy: 0.9563800096511841. Testing accuracy: 0.8999999761581421.\n",
            "\n",
            "Epoch 43/60.\n",
            "Training accuracy: 0.9622399806976318. Testing accuracy: 0.9020000100135803.\n",
            "\n",
            "Epoch 44/60.\n",
            "Training accuracy: 0.9623799920082092. Testing accuracy: 0.9000999927520752.\n",
            "\n",
            "Epoch 45/60.\n",
            "Training accuracy: 0.9613199830055237. Testing accuracy: 0.8996999859809875.\n",
            "\n",
            "Epoch 46/60.\n",
            "Training accuracy: 0.965399980545044. Testing accuracy: 0.9017000198364258.\n",
            "\n",
            "Epoch 47/60.\n",
            "Training accuracy: 0.9622399806976318. Testing accuracy: 0.8988000154495239.\n",
            "\n",
            "Epoch 48/60.\n",
            "Training accuracy: 0.9683200120925903. Testing accuracy: 0.8986999988555908.\n",
            "\n",
            "Epoch 49/60.\n",
            "Training accuracy: 0.966920018196106. Testing accuracy: 0.9003000259399414.\n",
            "\n",
            "Epoch 50/60.\n",
            "Training accuracy: 0.9675800204277039. Testing accuracy: 0.9034000039100647.\n",
            "\n",
            "Epoch 51/60.\n",
            "Training accuracy: 0.9674599766731262. Testing accuracy: 0.8950999975204468.\n",
            "\n",
            "Epoch 52/60.\n",
            "Training accuracy: 0.9724799990653992. Testing accuracy: 0.9027000069618225.\n",
            "\n",
            "Epoch 53/60.\n",
            "Training accuracy: 0.9673399925231934. Testing accuracy: 0.8967000246047974.\n",
            "\n",
            "Epoch 54/60.\n",
            "Training accuracy: 0.9714999794960022. Testing accuracy: 0.9014999866485596.\n",
            "\n",
            "Epoch 55/60.\n",
            "Training accuracy: 0.9750800132751465. Testing accuracy: 0.9010999798774719.\n",
            "\n",
            "Epoch 56/60.\n",
            "Training accuracy: 0.9729400277137756. Testing accuracy: 0.8963000178337097.\n",
            "\n",
            "Epoch 57/60.\n",
            "Training accuracy: 0.9718800187110901. Testing accuracy: 0.8989999890327454.\n",
            "\n",
            "Epoch 58/60.\n",
            "Training accuracy: 0.9768400192260742. Testing accuracy: 0.90420001745224.\n",
            "\n",
            "Epoch 59/60.\n",
            "Training accuracy: 0.9774799942970276. Testing accuracy: 0.9016000032424927.\n",
            "\n",
            "Epoch 60/60.\n",
            "Training accuracy: 0.9776800274848938. Testing accuracy: 0.9050999879837036.\n"
          ]
        }
      ]
    },
    {
      "cell_type": "code",
      "source": [
        "plt.plot(losses) # Plots the loss for each training batch\n",
        "plt.xlabel('Training batch')\n",
        "plt.ylabel('Cross entropy loss')\n",
        "plt.show()\n",
        "\n",
        "if train_accs[0].is_cuda and test_accs[0].is_cuda :\n",
        "  train_accs_cpu = [x.cpu().detach().numpy() for x in train_accs]\n",
        "  test_accs_cpu = [x.cpu().detach().numpy() for x in test_accs]\n",
        "\n",
        "plt.plot(train_accs_cpu, label='Training accuracy')\n",
        "plt.plot(test_accs_cpu, label='Testing accuracy')\n",
        "plt.legend(loc='best')\n",
        "plt.xlabel('Epoch')\n",
        "plt.show()"
      ],
      "metadata": {
        "id": "3Qfw2q5ua_oo",
        "colab": {
          "base_uri": "https://localhost:8080/",
          "height": 881
        },
        "outputId": "7a25ff6b-989d-4276-c957-7e383e874224"
      },
      "execution_count": 18,
      "outputs": [
        {
          "output_type": "display_data",
          "data": {
            "text/plain": [
              "<Figure size 640x480 with 1 Axes>"
            ],
            "image/png": "[encoded data removed]"
          },
          "metadata": {}
        },
        {
          "output_type": "display_data",
          "data": {
            "text/plain": [
              "<Figure size 640x480 with 1 Axes>"
            ],
            "image/png": "[encoded data removed]"
          },
          "metadata": {}
        }
      ]
    }
  ]
}